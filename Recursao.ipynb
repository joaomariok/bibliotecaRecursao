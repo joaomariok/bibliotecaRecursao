{
 "cells": [
  {
   "cell_type": "code",
   "execution_count": 1,
   "metadata": {},
   "outputs": [],
   "source": [
    "from bibliotecarecursao import Recursao\n",
    "import cmath"
   ]
  },
  {
   "cell_type": "code",
   "execution_count": 2,
   "metadata": {},
   "outputs": [
    {
     "name": "stdout",
     "output_type": "stream",
     "text": [
      "Fatorial: 120\n",
      "Fibonacci: 8\n",
      "Newton: 0.9999999999999999\n",
      "Newton: 1.0\n"
     ]
    }
   ],
   "source": [
    "print(\"Fatorial:\", Recursao.fact(5))\n",
    "print(\"Fibonacci:\", Recursao.fib(5))\n",
    "print(\"Newton:\", Recursao.newton3(0,1,-6,11,-6))\n",
    "print(\"Newton:\", Recursao.poly_newton(0,[-6,11,-6,1]))"
   ]
  },
  {
   "cell_type": "code",
   "execution_count": 3,
   "metadata": {
    "scrolled": true
   },
   "outputs": [
    {
     "data": {
      "text/plain": [
       "([7920.0, -3492.0, 560.0, -39.0, 1], 0.0)"
      ]
     },
     "execution_count": 3,
     "metadata": {},
     "output_type": "execute_result"
    }
   ],
   "source": [
    "args = [-15840,14904,-4612,638,-41,1]\n",
    "Recursao.briot_ruffini(Recursao.poly_newton(0,args),args)"
   ]
  },
  {
   "cell_type": "code",
   "execution_count": 4,
   "metadata": {},
   "outputs": [
    {
     "name": "stdout",
     "output_type": "stream",
     "text": [
      "[1.0, 2.0000000000000004, 2.9999999999999996]\n"
     ]
    }
   ],
   "source": [
    "args = [-6,11,-6,1]\n",
    "\n",
    "print(Recursao.eq_solver(0,args))"
   ]
  },
  {
   "cell_type": "code",
   "execution_count": 5,
   "metadata": {},
   "outputs": [
    {
     "name": "stdout",
     "output_type": "stream",
     "text": [
      "([(3.000000000000002+5.583598166405866e-38j), (1+1.128474576789396e-36j), (1.9999999999999991+4.137740114894452e-36j)], 17)\n"
     ]
    }
   ],
   "source": [
    "args = [-6,11,-6,1]\n",
    "\n",
    "print(Recursao.durand_kerner(args))"
   ]
  },
  {
   "cell_type": "code",
   "execution_count": 6,
   "metadata": {},
   "outputs": [
    {
     "data": {
      "text/plain": [
       "([(5.620165624814759+7.603455864644144e-29j),\n",
       "  (11.178100668415393-1.338904221429795j),\n",
       "  (0.9979975353884823+1.0334077858395255e-28j),\n",
       "  (11.178100668415462+1.338904221429885j),\n",
       "  (2.025635502965937-1.0412963948917356e-28j)],\n",
       " 48)"
      ]
     },
     "execution_count": 6,
     "metadata": {},
     "output_type": "execute_result"
    }
   ],
   "source": [
    "args = [-24,26,-9,1]\n",
    "args = [2,2,1]\n",
    "args = [-5,3,-3,1]\n",
    "args = [-1440,2664,-1532,339,-31,1]\n",
    "\n",
    "Recursao.durand_kerner(args)"
   ]
  },
  {
   "cell_type": "code",
   "execution_count": null,
   "metadata": {},
   "outputs": [],
   "source": []
  }
 ],
 "metadata": {
  "kernelspec": {
   "display_name": "Python 3",
   "language": "python",
   "name": "python3"
  },
  "language_info": {
   "codemirror_mode": {
    "name": "ipython",
    "version": 3
   },
   "file_extension": ".py",
   "mimetype": "text/x-python",
   "name": "python",
   "nbconvert_exporter": "python",
   "pygments_lexer": "ipython3",
   "version": "3.7.1"
  }
 },
 "nbformat": 4,
 "nbformat_minor": 4
}
