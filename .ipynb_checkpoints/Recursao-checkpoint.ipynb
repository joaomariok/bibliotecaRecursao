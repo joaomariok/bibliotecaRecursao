{
 "cells": [
  {
   "cell_type": "code",
   "execution_count": 1,
   "metadata": {},
   "outputs": [],
   "source": [
    "from bibliotecarecursao import Recursao"
   ]
  },
  {
   "cell_type": "code",
   "execution_count": 2,
   "metadata": {},
   "outputs": [
    {
     "name": "stdout",
     "output_type": "stream",
     "text": [
      "Fatorial: 120\n",
      "Fibonacci: 8\n",
      "Newton: 0.9999999999999999\n",
      "Newton: 1.0\n"
     ]
    }
   ],
   "source": [
    "print(\"Fatorial:\", Recursao.fact(5))\n",
    "print(\"Fibonacci:\", Recursao.fib(5))\n",
    "print(\"Newton:\", Recursao.newton3(0,1,-6,11,-6))\n",
    "print(\"Newton:\", Recursao.poly_newton(0,[-6,11,-6,1]))"
   ]
  },
  {
   "cell_type": "code",
   "execution_count": 3,
   "metadata": {},
   "outputs": [
    {
     "name": "stdout",
     "output_type": "stream",
     "text": [
      "[-6, 11, -6, 1]\n",
      "-6\n",
      "[11, -12, 3]\n",
      "11\n",
      "0.5454545454545454\n"
     ]
    }
   ],
   "source": [
    "args = [-6, 11, -6, 1]\n",
    "grau = len(args)\n",
    "x0 = 0\n",
    "\n",
    "soma = sum([val*x0**(i) for i, val in enumerate(args)])\n",
    "\n",
    "d = [i*val for i, val in enumerate(args) if i!=0]\n",
    "dsoma = sum([val*x0**(i) for i, val in enumerate(d)])\n",
    "\n",
    "x = x0 - soma/dsoma\n",
    "\n",
    "print(args)\n",
    "print(soma)\n",
    "print(d)\n",
    "print(dsoma)\n",
    "print(x)"
   ]
  },
  {
   "cell_type": "code",
   "execution_count": 4,
   "metadata": {},
   "outputs": [
    {
     "name": "stdout",
     "output_type": "stream",
     "text": [
      "[1, -6, 11, -6]\n",
      "[1, -5, 6, 0]\n",
      "[[1, -5, 6], 0]\n"
     ]
    }
   ],
   "source": [
    "args = [-6, 11, -6, 1]\n",
    "x0 = 1\n",
    "\n",
    "args.reverse()\n",
    "print(args)\n",
    "\n",
    "div = []\n",
    "for i, val in enumerate(args):\n",
    "    if i==0:\n",
    "        div.append(val)\n",
    "    else:\n",
    "        div.append(x0*div[i-1] + val)\n",
    "\n",
    "print(div)\n",
    "\n",
    "# div = [(x0*div[i-1] + val) for i,val in enumerate(args) if i!=0]\n",
    "resto = div.pop()\n",
    "\n",
    "print([div, resto])"
   ]
  },
  {
   "cell_type": "code",
   "execution_count": 5,
   "metadata": {
    "scrolled": true
   },
   "outputs": [
    {
     "data": {
      "text/plain": [
       "[[7920.0, -3492.0, 560.0, -39.0, 1], 0.0]"
      ]
     },
     "execution_count": 5,
     "metadata": {},
     "output_type": "execute_result"
    }
   ],
   "source": [
    "args = [-15840,14904,-4612,638,-41,1]\n",
    "Recursao.briot_ruffini(Recursao.poly_newton(0,args),args)"
   ]
  },
  {
   "cell_type": "code",
   "execution_count": 6,
   "metadata": {},
   "outputs": [
    {
     "name": "stdout",
     "output_type": "stream",
     "text": [
      "Sem raízes reais!\n",
      "None\n"
     ]
    }
   ],
   "source": [
    "args = [20, 18, 10, 1, 1]\n",
    "x0 = Recursao.poly_newton(0.1, args)\n",
    "print(x0)\n",
    "# polyDiv = Recursao.briot_ruffini(x0,args)\n",
    "# print(polyDiv)"
   ]
  },
  {
   "cell_type": "code",
   "execution_count": 7,
   "metadata": {},
   "outputs": [],
   "source": [
    "# x1 = Recursao.poly_newton(0.1, polyDiv[0])\n",
    "# print(x1)"
   ]
  },
  {
   "cell_type": "code",
   "execution_count": 8,
   "metadata": {},
   "outputs": [
    {
     "name": "stdout",
     "output_type": "stream",
     "text": [
      "0\n",
      "1.0000000000000002 \n",
      "\n",
      "[5.999999999999999, -5.0, 1] \n",
      "\n",
      "1\n",
      "1.9999999999999982 \n",
      "\n",
      "[-3.0000000000000018, 1] \n",
      "\n",
      "2\n",
      "3.0000000000000018 \n",
      "\n",
      "[1] \n",
      "\n",
      "[1.0000000000000002, 1.9999999999999982, 3.0000000000000018]\n"
     ]
    }
   ],
   "source": [
    "# args_0 = [-1440,2664,-1532,339,-31,1]\n",
    "args_0 = [-6,11,-6,1]\n",
    "x0 = 0.1\n",
    "\n",
    "args = [args_0]\n",
    "x = []\n",
    "for i in range(len(args_0)-1):\n",
    "    print(i)\n",
    "    x.append(Recursao.poly_newton(x0, args[i]))\n",
    "    print(x[i],\"\\n\")\n",
    "    args.append(Recursao.briot_ruffini(x[i], args[i])[0])\n",
    "    print(args[i+1],\"\\n\")\n",
    "\n",
    "print(x)"
   ]
  },
  {
   "cell_type": "code",
   "execution_count": 9,
   "metadata": {},
   "outputs": [
    {
     "name": "stdout",
     "output_type": "stream",
     "text": [
      "0 :\n",
      "x0 = 1.0 \n",
      "\n",
      "[6.0, -5.0, 1] \n",
      "\n",
      "1 :\n",
      "x1 = 2.0000000000000004 \n",
      "\n",
      "[-2.9999999999999996, 1] \n",
      "\n",
      "2 :\n",
      "x2 = 2.9999999999999996 \n",
      "\n",
      "[1] \n",
      "\n"
     ]
    },
    {
     "data": {
      "text/plain": [
       "[1.0, 2.0000000000000004, 2.9999999999999996]"
      ]
     },
     "execution_count": 9,
     "metadata": {},
     "output_type": "execute_result"
    }
   ],
   "source": [
    "Recursao.eq_solver(0, [-6,11,-6,1])"
   ]
  },
  {
   "cell_type": "code",
   "execution_count": null,
   "metadata": {},
   "outputs": [],
   "source": []
  }
 ],
 "metadata": {
  "kernelspec": {
   "display_name": "Python 3",
   "language": "python",
   "name": "python3"
  },
  "language_info": {
   "codemirror_mode": {
    "name": "ipython",
    "version": 3
   },
   "file_extension": ".py",
   "mimetype": "text/x-python",
   "name": "python",
   "nbconvert_exporter": "python",
   "pygments_lexer": "ipython3",
   "version": "3.7.3"
  }
 },
 "nbformat": 4,
 "nbformat_minor": 2
}
